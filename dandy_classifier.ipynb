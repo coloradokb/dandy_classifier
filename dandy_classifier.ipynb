{
 "cells": [
  {
   "cell_type": "markdown",
   "metadata": {},
   "source": [
    "Notebook to test, learn and love ;-)"
   ]
  },
  {
   "cell_type": "code",
   "execution_count": 12,
   "metadata": {},
   "outputs": [],
   "source": [
    "import sys\n",
    "import os\n",
    "import time\n",
    "import datetime\n",
    "import random\n",
    "import shutil\n",
    "import tensorflow as tf\n",
    "import tensorflow.keras.optimizers\n",
    "from tensorflow.keras.optimizers import RMSprop\n",
    "from tensorflow.keras.preprocessing.image import ImageDataGenerator\n",
    "from shutil import copyfile\n",
    "from os import getcwd\n",
    "\n",
    "import numpy as np\n",
    "import matplotlib as mpimg\n",
    "import matplotlib.pyplot as plt"
   ]
  },
  {
   "cell_type": "markdown",
   "metadata": {},
   "source": [
    "SETUP DIRECTORY STRUCTURE FOR TRAINING AND TESTING"
   ]
  },
  {
   "cell_type": "code",
   "execution_count": 2,
   "metadata": {},
   "outputs": [
    {
     "name": "stdout",
     "output_type": "stream",
     "text": [
      "Directory dandelion_v_other found. Clearing out for next build.\n"
     ]
    }
   ],
   "source": [
    "#no unzipping needed as directories already exist\n",
    "#directory is: ~/Images/\n",
    "def create_and_clear_dir_structure():\n",
    "    try:\n",
    "        if(os.path.isdir('Images/dandelion_v_other')):\n",
    "            print('Directory dandelion_v_other found. Clearing out for next build.')\n",
    "            shutil.rmtree('Images/dandelion_v_other/')\n",
    "        \n",
    "        os.mkdir('Images/dandelion_v_other/')\n",
    "        os.mkdir('Images/dandelion_v_other/training')\n",
    "        os.mkdir('Images/dandelion_v_other/testing')\n",
    "        os.mkdir('Images/dandelion_v_other/training/dandelion')\n",
    "        os.mkdir('Images/dandelion_v_other/testing/dandelion')\n",
    "        os.mkdir('Images/dandelion_v_other/training/other')\n",
    "        os.mkdir('Images/dandelion_v_other/testing/other')\n",
    "    except OSError as e:\n",
    "        print(f\"OS DIR ERR: {e}\")\n",
    "        pass\n",
    "\n",
    "create_and_clear_dir_structure()\n"
   ]
  },
  {
   "cell_type": "markdown",
   "metadata": {},
   "source": [
    "FUNCTION TO PROPERLY SPLIT UP OUR TRAIN/TEST IMAGES ACCORDING TO OUR SPLIT-SIZE RATIO. USUALLY .9/.1"
   ]
  },
  {
   "cell_type": "code",
   "execution_count": 3,
   "metadata": {},
   "outputs": [
    {
     "name": "stdout",
     "output_type": "stream",
     "text": [
      "size:635\n",
      "TRAIN size:571\n",
      "TEST size:64\n",
      "size:627\n",
      "TRAIN size:564\n",
      "TEST size:63\n",
      "571\n",
      "564\n",
      "64\n",
      "63\n"
     ]
    }
   ],
   "source": [
    "###----------SPLIT THE DATA INTO TRAIN/TEST SETS-----------###\n",
    "def split_data(SOURCE,TRAINING,TESTING,SPLIT_SIZE):\n",
    "    img_list = os.listdir(SOURCE)\n",
    "    random.shuffle(img_list)\n",
    "    length_of_list = len(img_list)\n",
    "    length_of_training_list = int(length_of_list*SPLIT_SIZE)\n",
    "    length_of_test_list = length_of_list - length_of_training_list\n",
    "    train_list = img_list[:length_of_training_list]\n",
    "    test_list = img_list[length_of_training_list:]\n",
    "\n",
    "    print(f\"size:{length_of_list}\")\n",
    "    print(f\"TRAIN size:{length_of_training_list}\")\n",
    "    print(f\"TEST size:{length_of_test_list}\")\n",
    "\n",
    "    for file in train_list:\n",
    "        full_img_path = SOURCE+file\n",
    "        #print(f\"TRAIN: {full_img_path}\")\n",
    "        if(os.path.getsize(full_img_path) < 0): #double check no 0 length image files\n",
    "            img_list.remove(file)\n",
    "            print(f\"Found 0 length image file: {file}\")\n",
    "            print(f\"File has been removed.\")\n",
    "        else:\n",
    "            copyfile(full_img_path,TRAINING+file)\n",
    "\n",
    "    for file in test_list:\n",
    "        full_img_path = SOURCE + file\n",
    "        #print(f\"TEST: {full_img_path}\")\n",
    "        if (os.path.getsize(full_img_path) < 0):  # double check no 0 length image files\n",
    "            img_list.remove(file)\n",
    "            print(f\"Found 0 length image file: {file}\")\n",
    "            print(f\"File has been removed.\")\n",
    "        else:\n",
    "            copyfile(full_img_path, TESTING + file)\n",
    "\n",
    "DANDELION_SOURCE_DIR   = \"Images/dandelion/\"\n",
    "OTHER_SOURCE_DIR       = \"Images/other/\"\n",
    "TRAINING_DANDELION_DIR = \"Images/dandelion_v_other/training/dandelion/\"\n",
    "TESTING_DANDELION_DIR  = \"Images/dandelion_v_other/testing/dandelion/\"\n",
    "TRAINING_OTHER_DIR     = \"Images/dandelion_v_other/training/other/\"\n",
    "TESTING_OTHER_DIR      = \"Images/dandelion_v_other/testing/other/\"\n",
    "\n",
    "\n",
    "split_ratio = 0.9\n",
    "split_data(DANDELION_SOURCE_DIR,TRAINING_DANDELION_DIR,TESTING_DANDELION_DIR,split_ratio)\n",
    "split_data(OTHER_SOURCE_DIR,TRAINING_OTHER_DIR,TESTING_OTHER_DIR,split_ratio)\n",
    "\n",
    "len_of_training_len = len(os.listdir('Images/dandelion_v_other/training/dandelion/')) + len(os.listdir('Images/dandelion_v_other/training/other/'))\n",
    "\n",
    "print(len(os.listdir('Images/dandelion_v_other/training/dandelion/')))\n",
    "print(len(os.listdir('Images/dandelion_v_other/training/other/')))\n",
    "print(len(os.listdir('Images/dandelion_v_other/testing/dandelion/')))\n",
    "print(len(os.listdir('Images/dandelion_v_other/testing/other/')))\n"
   ]
  },
  {
   "cell_type": "markdown",
   "metadata": {},
   "source": [
    "BUILD MODEL"
   ]
  },
  {
   "cell_type": "code",
   "execution_count": 4,
   "metadata": {},
   "outputs": [],
   "source": [
    "def create_model():\n",
    "    model = tf.keras.models.Sequential([\n",
    "        #we'll use 150x150 size and 3 color model\n",
    "        tf.keras.layers.Conv2D(32,(3,3),activation='relu',input_shape=(150,150,3)),\n",
    "        tf.keras.layers.MaxPooling2D(2,2),\n",
    "        tf.keras.layers.Conv2D(64,(3,3),activation='relu'),\n",
    "        tf.keras.layers.MaxPooling2D(2,2),\n",
    "        tf.keras.layers.Conv2D(128,(3,3),activation='relu'),\n",
    "        tf.keras.layers.MaxPooling2D(2,2),\n",
    "        tf.keras.layers.Conv2D(128, (3, 3), activation='relu'),\n",
    "        tf.keras.layers.MaxPooling2D(2, 2),\n",
    "        #Flatten the results fo feed into DNN\n",
    "        tf.keras.layers.Flatten(),\n",
    "        #pass into 512 neuron hidden layer\n",
    "        tf.keras.layers.Dense(512,activation='relu'),\n",
    "        #Single output neuron...its a dandelion or not\n",
    "        tf.keras.layers.Dense(1,activation='sigmoid')\n",
    "    ])\n",
    "\n",
    "    model.compile(optimizer=RMSprop(lr=1e-05),loss='binary_crossentropy',metrics=['accuracy'])\n",
    "    return model\n"
   ]
  },
  {
   "cell_type": "markdown",
   "metadata": {},
   "source": [
    "TRAIN MODEL: Including ImageGenerator so we can just hand off images via flow_from_directory method"
   ]
  },
  {
   "cell_type": "code",
   "execution_count": 5,
   "metadata": {},
   "outputs": [],
   "source": [
    "def run_training(model):\n",
    "    TRAINING_DIR = 'Images/dandelion_v_other/training'\n",
    "    train_datagen = ImageDataGenerator(\n",
    "        rescale=1./255,\n",
    "        rotation_range = 40,\n",
    "        width_shift_range=0.2,\n",
    "        height_shift_range=0.2,\n",
    "        shear_range=0.2,\n",
    "        zoom_range=0.2,\n",
    "        horizontal_flip=True,\n",
    "        fill_mode='nearest'\n",
    "    )\n",
    "\n",
    "    #train w/batch size of 10\n",
    "    train_generator = train_datagen.flow_from_directory(TRAINING_DIR,\n",
    "                                                        batch_size=24,\n",
    "                                                        class_mode='binary',\n",
    "                                                        target_size=(150,150))\n",
    "\n",
    "    VALIDATION_DIR = 'Images/dandelion_v_other/testing'\n",
    "    validation_datagen = ImageDataGenerator( rescale= 1./255)\n",
    "\n",
    "\n",
    "    validation_generator = validation_datagen.flow_from_directory(VALIDATION_DIR,\n",
    "                                                                  batch_size=24,\n",
    "                                                                  class_mode='binary',\n",
    "                                                                  target_size=(150,150))\n",
    "\n",
    "    checkpoint_path = \"training_1/cp.ckpt\"\n",
    "    checkpoint_dir = os.path.dirname(checkpoint_path)\n",
    "\n",
    "    # Create a callback that saves the model's weights\n",
    "    cp_callback = tf.keras.callbacks.ModelCheckpoint(filepath=checkpoint_path,\n",
    "                                                     save_weights_only=True,\n",
    "                                                     verbose=1)\n",
    "    \n",
    "    #4 epochs for testing, however 20-30 seems more appropriate for training\n",
    "    history = model.fit(train_generator,\n",
    "                                  epochs=4,verbose=1,\n",
    "                                  validation_data = validation_generator,\n",
    "                                  callbacks=[cp_callback])\n",
    "\n",
    "    return history"
   ]
  },
  {
   "cell_type": "markdown",
   "metadata": {},
   "source": [
    "REVIEW VIA PLOTS"
   ]
  },
  {
   "cell_type": "code",
   "execution_count": 6,
   "metadata": {},
   "outputs": [],
   "source": [
    "def plot_history(history):\n",
    "    #-----------------------------------------------\n",
    "    # Get list of results on training and test data\n",
    "    # for each epoch\n",
    "    #-----------------------------------------------\n",
    "    acc     = history.history['accuracy']\n",
    "    val_acc = history.history['val_accuracy']\n",
    "    loss    = history.history['loss']\n",
    "    val_loss= history.history['val_loss']\n",
    "\n",
    "    epochs = range(len(acc))\n",
    "\n",
    "    #-----------------------------------------------\n",
    "    #Plot train/validation accuracy\n",
    "    #-----------------------------------------------\n",
    "    plt.plot(epochs,acc,'r',label=\"Training Accuracy\")\n",
    "    plt.plot(epochs,val_acc,'b',label=\"Validation Accuracy\")\n",
    "    plt.title('Training and validation accuracy')\n",
    "    plt.legend()\n",
    "    #-----------------------------------------------\n",
    "    #Plot train/validation loss\n",
    "    #-----------------------------------------------\n",
    "    plt.plot(epochs,loss,'r',label=\"Training Loss\")\n",
    "    plt.plot(epochs,val_loss,'b',label=\"Validation Loss\")\n",
    "    plt.title('Training and validation loss')\n",
    "    plt.legend()\n",
    "\n"
   ]
  },
  {
   "cell_type": "markdown",
   "metadata": {},
   "source": [
    "Build and see what we get!\n"
   ]
  },
  {
   "cell_type": "code",
   "execution_count": 7,
   "metadata": {},
   "outputs": [
    {
     "name": "stdout",
     "output_type": "stream",
     "text": [
      "Found 1135 images belonging to 2 classes.\n",
      "Found 127 images belonging to 2 classes.\n",
      "Epoch 1/4\n",
      "48/48 [==============================] - ETA: 0s - loss: 0.6923 - accuracy: 0.5198\n",
      "Epoch 00001: saving model to training_1/cp.ckpt\n",
      "48/48 [==============================] - 199s 4s/step - loss: 0.6923 - accuracy: 0.5198 - val_loss: 0.6919 - val_accuracy: 0.5039\n",
      "Epoch 2/4\n",
      "48/48 [==============================] - ETA: 0s - loss: 0.6894 - accuracy: 0.5339\n",
      "Epoch 00002: saving model to training_1/cp.ckpt\n",
      "48/48 [==============================] - 196s 4s/step - loss: 0.6894 - accuracy: 0.5339 - val_loss: 0.6881 - val_accuracy: 0.5512\n",
      "Epoch 3/4\n",
      "48/48 [==============================] - ETA: 0s - loss: 0.6895 - accuracy: 0.5533\n",
      "Epoch 00003: saving model to training_1/cp.ckpt\n",
      "48/48 [==============================] - 195s 4s/step - loss: 0.6895 - accuracy: 0.5533 - val_loss: 0.6842 - val_accuracy: 0.5984\n",
      "Epoch 4/4\n",
      "48/48 [==============================] - ETA: 0s - loss: 0.6862 - accuracy: 0.5595\n",
      "Epoch 00004: saving model to training_1/cp.ckpt\n",
      "48/48 [==============================] - 194s 4s/step - loss: 0.6862 - accuracy: 0.5595 - val_loss: 0.6816 - val_accuracy: 0.6378\n"
     ]
    }
   ],
   "source": [
    "model = create_model()\n",
    "time_start = round(time.time())\n",
    "history = run_training(model)\n",
    "time_end = round(time.time())"
   ]
  },
  {
   "cell_type": "code",
   "execution_count": 8,
   "metadata": {},
   "outputs": [
    {
     "data": {
      "image/png": "[encoded data removed]",
      "text/plain": [
       "<Figure size 432x288 with 1 Axes>"
      ]
     },
     "metadata": {
      "needs_background": "light"
     },
     "output_type": "display_data"
    }
   ],
   "source": [
    "plot_history(history)"
   ]
  },
  {
   "cell_type": "code",
   "execution_count": 13,
   "metadata": {},
   "outputs": [
    {
     "name": "stdout",
     "output_type": "stream",
     "text": [
      "0.5416299551725388\n",
      "Model achieved 0.5416299551725388% accuracy!\n",
      "Saving dandy_model.h5 for use.\n"
     ]
    }
   ],
   "source": [
    "last_completed_training = datetime.datetime.now()\n",
    "last_completed_accuracy = history.history['accuracy']\n",
    "last_completed_loss =  history.history['loss']\n",
    "\n",
    "acc      = np.array(history.history['accuracy']).mean()\n",
    "val_acc  = np.array(history.history['val_accuracy']).mean()\n",
    "loss     = np.array(history.history['loss']).mean()\n",
    "val_loss = np.array(history.history['val_loss']).mean()\n",
    "\n",
    "last_date_time_of_completed_training = datetime.datetime.now().strftime(\"%c\")\n",
    "length_of_time_for_training = time_end - time_start\n",
    "\n",
    "fp = open(f\"{os.getcwd()}/metrics/metrics.csv\",\"w\")\n",
    "fp.write(\"Last_Accuracy;Last_Loss;Validation_Loss;Length_of_Training;Last_Training_Finish;Total_Images\\n\")\n",
    "data_string = f\"{acc};{loss};{val_loss};{length_of_time_for_training};{last_date_time_of_completed_training};{len_of_training_len}\\n\"\n",
    "fp.write(data_string)\n",
    "fp.close()\n",
    "\n",
    "def model_quality_save(acc,model,threshold=0.50):\n",
    "    if(acc > threshold):\n",
    "        print(f\"Model achieved {acc}% accuracy!\\nSaving dandy_model.h5 for use.\")\n",
    "        model.save('saved_models/dandy_model_latest.h5')\n",
    "    else:\n",
    "        #send message that model was not good with acc/loss/val_acc/val_loss\n",
    "        print(f\"Model only made it to {acc}. Not saving. \")\n",
    "        pass\n",
    "\n",
    "print(acc)\n",
    "model_quality_save(acc,model)\n"
   ]
  },
  {
   "cell_type": "code",
   "execution_count": null,
   "metadata": {},
   "outputs": [],
   "source": []
  }
 ],
 "metadata": {
  "kernelspec": {
   "display_name": "Python 3",
   "language": "python",
   "name": "python3"
  },
  "language_info": {
   "codemirror_mode": {
    "name": "ipython",
    "version": 3
   },
   "file_extension": ".py",
   "mimetype": "text/x-python",
   "name": "python",
   "nbconvert_exporter": "python",
   "pygments_lexer": "ipython3",
   "version": "3.8.5"
  }
 },
 "nbformat": 4,
 "nbformat_minor": 4
}
